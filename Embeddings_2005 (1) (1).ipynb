{
  "cells": [
    {
      "cell_type": "markdown",
      "metadata": {
        "id": "R82on2S3pQzC"
      },
      "source": [
        "#  NLP-lab :  Word embeddings\n",
        "\n",
        "In this series of exercises, we will explore three word embeddings:\n",
        "\n",
        "* [Collobert & Weston](http://www.jmlr.org/papers/volume12/collobert11a/collobert11a.pdf) https://ronan.collobert.com/senna/\n",
        "* [Word2Vec](https://arxiv.org/abs/1301.3781)\n",
        "* [BERT](https://huggingface.co/bert-base-uncased)\n",
        "\n",
        "\n",
        "In the code already provided, add your code to the place indicated by `YOUR CODE HERE`.\n",
        "\n",
        "**Important** : do NOT commit the data and embedding files in your repository git : it is a waste of resources and it takes more time to clone.\n",
        "> Use https://docs.github.com/en/get-started/getting-started-with-git/ignoring-files\n"
      ]
    },
    {
      "cell_type": "code",
      "execution_count": 1,
      "metadata": {
        "id": "6ZY9KMWYpQzG"
      },
      "outputs": [],
      "source": [
        "# basic imports\n",
        "import os\n",
        "import matplotlib.pyplot as plt\n",
        "# display matplotlib graphics in notebook\n",
        "%matplotlib inline\n",
        "import seaborn as sns\n",
        "\n",
        "# disable warnings for libraries\n",
        "import warnings\n",
        "warnings.filterwarnings(\"ignore\")\n",
        "\n",
        "# configure logger\n",
        "import logging\n",
        "logging.basicConfig(format='%(asctime)s %(levelname)s:%(message)s', level=logging.INFO, datefmt='%I:%M:%S')\n",
        "logger = logging.getLogger(__name__)\n"
      ]
    },
    {
      "cell_type": "markdown",
      "metadata": {
        "id": "NZsmJG16pQzI"
      },
      "source": [
        "###  Embeddings exploration with Collobert's embeddings\n",
        "\n",
        "Upload the files containing the embeddings to `data`:\n",
        "* Collobert (size 50): [collobert_embeddings.txt.zip](https://storage.teklia.com/shared/deepnlp-labs/collobert_embeddings.txt.zip) which contains the embedding vectors and [collobert_words.lst](https://storage.teklia.com/shared/deepnlp-labs/collobert_words.lst) which contains the associated words;\n",
        "\n",
        "You need to unzip the files to load them.\n",
        "\n",
        "Feel free to open the files to see what they contain (it's sometimes surprising).\n",
        "\n",
        "#### Question:\n",
        ">* Add the files to your .gitignore\n",
        ">* Give the size in Mb of the embeddings files before unzipping.\n",
        ">* By exploring the content of the embedding files, give the number of words for which these files provide embeddings.\n",
        "\n"
      ]
    },
    {
      "cell_type": "markdown",
      "source": [
        "### Answer:\n",
        "Before unzip, the size of collobert_embeddings.txt.zip is 24,275 Kb; and glove.6B.50d.txt.zip is 67,618 Kb."
      ],
      "metadata": {
        "id": "hnfIfYqCpadU"
      }
    },
    {
      "cell_type": "markdown",
      "metadata": {
        "id": "-7E4U0t8pQzI"
      },
      "source": [
        "### List of closest words\n",
        "\n",
        "The aim of this exercise is to list the closest words to a given word for the Collobert embedding. First, we'll load the vectors of the Collobert embedding into a numpy array and the associated words into a python list. Then we'll use the [scipy KDTree](https://docs.scipy.org/doc/scipy/reference/generated/scipy.spatial.KDTree.html) data structure to quickly search for the vectors closest to a series of words.\n",
        "\n",
        "\n",
        "#### Question:\n",
        ">* load embedding vectors from the file `data/collobert_embeddings.txt` using the numpy function [genfromtxt](https://numpy.org/doc/stable/reference/generated/numpy.genfromtxt.html)\n",
        ">* load the words associated with the vectors from the `data/collobert_words.lst` file into a python list (using `open()` and `readlines()`)\n",
        ">* check that the sizes are correct\n"
      ]
    },
    {
      "cell_type": "code",
      "execution_count": 4,
      "metadata": {
        "colab": {
          "base_uri": "https://localhost:8080/"
        },
        "id": "mwi5uNaspQzJ",
        "outputId": "ea2ebf8a-5571-4609-9a52-f5d1e0c561d5"
      },
      "outputs": [
        {
          "output_type": "stream",
          "name": "stdout",
          "text": [
            "Les tailles correspondent : 130000 mots et 130000 vecteurs.\n"
          ]
        }
      ],
      "source": [
        "# Charger les mots à partir du fichier collobert_words.lst en utilisant open et readlines\n",
        "with open('data/collobert_words.lst', 'r') as file:\n",
        "    words = file.readlines()\n",
        "\n",
        "import numpy as np\n",
        "\n",
        "embeddings = np.genfromtxt('data/collobert_embeddings.txt', encoding='latin-1')\n",
        "\n",
        "\n",
        "\n",
        "# Vérifier que le nombre de mots et de vecteurs correspond\n",
        "if len(words) == embeddings.shape[0]:\n",
        "    print(f\"Les tailles correspondent : {len(words)} mots et {embeddings.shape[0]} vecteurs.\")\n",
        "else:\n",
        "    print(f\"Erreur : Nombre de mots ({len(words)}) et de vecteurs ({embeddings.shape[0]}) ne correspondent pas.\")\n",
        "\n",
        "\n"
      ]
    },
    {
      "cell_type": "markdown",
      "metadata": {
        "id": "5vC8dHwcpQzJ"
      },
      "source": [
        "KD trees are a very efficient data structure for storing large sets of points in a multi-dimensional space and performing very efficient nearest-neighbour searches.\n",
        "\n",
        "#### Question\n",
        "> * Initialise the [KDTree](https://docs.scipy.org/doc/scipy/reference/generated/scipy.spatial.KDTree.html) structure with Collobert's embedding vectors.\n",
        "> * Using the [tree.query](https://docs.scipy.org/doc/scipy/reference/generated/scipy.spatial.KDTree.query.html#scipy.spatial.KDTree.query) function, display the 5 nearest words for the following words: ‘mother’, ‘computer’, ‘dentist’, ‘war’, ‘president’, ‘secretary’, ‘nurse’.  *Hint: you can use the function `collobert_words.index(w)` to obtain the index of a word in the list of words*.\n",
        "> * Create a `words_plus_neighbors` list containing the words and all their neighbours (for the next question)"
      ]
    },
    {
      "cell_type": "code",
      "execution_count": 5,
      "metadata": {
        "colab": {
          "base_uri": "https://localhost:8080/"
        },
        "id": "pwjhZIwVpQzK",
        "outputId": "6b6e41a1-034e-4f66-8ab3-bd18ba4ac927"
      },
      "outputs": [
        {
          "output_type": "stream",
          "name": "stdout",
          "text": [
            "Pour le mot 'mother', les 5 voisins les plus proches sont : ['daughter', 'wife', 'father', 'husband', 'son']\n",
            "Pour le mot 'computer', les 5 voisins les plus proches sont : ['laptop', 'multimedia', 'desktop', 'software', 'wiki']\n",
            "Pour le mot 'dentist', les 5 voisins les plus proches sont : ['pharmacist', 'midwife', 'physician', 'housekeeper', 'veterinarian']\n",
            "Pour le mot 'war', les 5 voisins les plus proches sont : ['revolution', 'death', 'court', 'independence', 'history']\n",
            "Pour le mot 'president', les 5 voisins les plus proches sont : ['governor', 'chairman', 'mayor', 'secretary', 'senator']\n",
            "Pour le mot 'secretary', les 5 voisins les plus proches sont : ['minister', 'treasurer', 'chairman', 'commissioner', 'undersecretary']\n",
            "Pour le mot 'nurse', les 5 voisins les plus proches sont : ['physician', 'veterinarian', 'dentist', 'surgeon', 'midwife']\n",
            "\n",
            "Liste des mots et de leurs voisins :\n",
            "mother: ['daughter', 'wife', 'father', 'husband', 'son']\n",
            "computer: ['laptop', 'multimedia', 'desktop', 'software', 'wiki']\n",
            "dentist: ['pharmacist', 'midwife', 'physician', 'housekeeper', 'veterinarian']\n",
            "war: ['revolution', 'death', 'court', 'independence', 'history']\n",
            "president: ['governor', 'chairman', 'mayor', 'secretary', 'senator']\n",
            "secretary: ['minister', 'treasurer', 'chairman', 'commissioner', 'undersecretary']\n",
            "nurse: ['physician', 'veterinarian', 'dentist', 'surgeon', 'midwife']\n"
          ]
        }
      ],
      "source": [
        "from scipy.spatial import KDTree\n",
        "\n",
        "# Initialiser la structure KDTree avec les vecteurs d'embeddings\n",
        "tree = KDTree(embeddings)\n",
        "\n",
        "# Liste des mots à tester\n",
        "test_words = ['mother', 'computer', 'dentist', 'war', 'president', 'secretary', 'nurse']\n",
        "\n",
        "# Créer une liste words_plus_neighbors\n",
        "words_plus_neighbors = []\n",
        "\n",
        "# Trouver et afficher les 5 mots les plus proches pour chaque mot de test\n",
        "for word in test_words:\n",
        "    # Obtenir l'indice du mot dans la liste des mots\n",
        "    index = words.index(word + '\\n')  # Ajouter '\\n' pour correspondre à l'élément dans la liste\n",
        "\n",
        "    # Trouver les 5 voisins les plus proches du mot\n",
        "    distances, indices = tree.query(embeddings[index], k=6)  # 6 car le mot lui-même est inclus\n",
        "\n",
        "    # Ajouter les voisins à la liste words_plus_neighbors\n",
        "    neighbors = [words[i].strip() for i in indices]\n",
        "    words_plus_neighbors.append((word, neighbors[1:]))  # Exclure le mot lui-même\n",
        "\n",
        "    # Afficher les résultats\n",
        "    print(f\"Pour le mot '{word}', les 5 voisins les plus proches sont : {neighbors[1:]}\")\n",
        "\n",
        "# Afficher la liste words_plus_neighbors\n",
        "print(\"\\nListe des mots et de leurs voisins :\")\n",
        "for word, neighbors in words_plus_neighbors:\n",
        "    print(f\"{word}: {neighbors}\")\n",
        "\n",
        ""
      ]
    },
    {
      "cell_type": "markdown",
      "metadata": {
        "id": "4I7K-rUdpQzK"
      },
      "source": [
        "### Visualisation with T-SNE\n",
        "\n",
        "Embeddings are vectors with several hundred dimensions. It is therefore not possible to display them in their original space. However, it is possible to apply dimension reduction algorithms to display them in 2 or 3 dimensions. One of the dimension reduction algorithms allowing 2D visualisation is [tSNE](https://en.wikipedia.org/wiki/T-distributed_stochastic_neighbor_embedding).\n",
        "\n",
        "#### Question\n",
        "> * Create a `word_vectors` object of type `np.array` from a list containing all the embeddings of the words in the `words_plus_neighbors` list.\n",
        "> * Create a tSNE object from the `from sklearn.manifold import TSNE` library with the parameters `random_state=0`, `n_iter=2000` and `perplexity=15.0` for a 2-dimensional view.\n",
        "> * Calculate *T* the tSNE transformation of the `word_vectors` by applying function `.fit_transform(word_vectors)` to the tSNE object. This function estimates the parameters of the tSNE transformation and returns the reduced-dimension representation of the vectors used for estimation.\n",
        "> * Use the `scatterplot` function from [seaborn](https://seaborn.pydata.org/generated/seaborn.scatterplot.html) to represent points in 2 dimensions and add word labels using the `plt.annotate` function."
      ]
    },
    {
      "cell_type": "code",
      "execution_count": 6,
      "metadata": {
        "colab": {
          "base_uri": "https://localhost:8080/",
          "height": 461
        },
        "id": "gnTHVMe1pQzL",
        "outputId": "7110af56-a94c-4462-c2cb-cc3bc4342303"
      },
      "outputs": [
        {
          "output_type": "display_data",
          "data": {
            "text/plain": [
              "<Figure size 640x480 with 1 Axes>"
            ],
            "image/png": "[encoded data removed]"
          },
          "metadata": {}
        }
      ],
      "source": [
        "import numpy as np\n",
        "from sklearn.manifold import TSNE\n",
        "import matplotlib.pyplot as plt\n",
        "import seaborn as sns\n",
        "\n",
        "# 1. Récupérer tous les vecteurs associés à words_plus_neighbors\n",
        "unique_words = set()\n",
        "for word, neighbors in words_plus_neighbors:\n",
        "    unique_words.add(word)\n",
        "    unique_words.update(neighbors)\n",
        "\n",
        "# Supprimer les éventuels '\\n' dans la liste des mots\n",
        "word_to_index = {w.strip(): i for i, w in enumerate(words)}\n",
        "\n",
        "# Extraire les vecteurs correspondant aux mots sélectionnés\n",
        "word_vectors = np.array([embeddings[word_to_index[w]] for w in unique_words])\n",
        "\n",
        "# 2. Créer l'objet tSNE\n",
        "tsne = TSNE(random_state=0, n_iter=2000, perplexity=15.0)\n",
        "\n",
        "# 3. Appliquer la transformation tSNE\n",
        "T = tsne.fit_transform(word_vectors)\n",
        "\n",
        "# 4. Créer une correspondance entre index et mot\n",
        "labels = list(unique_words)\n",
        "\n",
        "# 5. Affichage avec seaborn\n",
        "fig = plt.figure()\n",
        "fig.patch.set_facecolor('#f9f9f9')\n",
        "\n",
        "sns.set(rc={'figure.figsize': (14, 8)})\n",
        "sns.set(font_scale=1.2)\n",
        "\n",
        "sns.scatterplot(x=T[:, 0], y=T[:, 1])\n",
        "\n",
        "for label, x, y in zip(labels, T[:, 0], T[:, 1]):\n",
        "    plt.annotate(label, xy=(x + 1, y + 1), xytext=(0, 0), textcoords='offset points')\n",
        "\n",
        "plt.title(\"Visualisation 2D des mots et de leurs voisins les plus proches (t-SNE)\")\n",
        "plt.show()\n"
      ]
    },
    {
      "cell_type": "markdown",
      "metadata": {
        "id": "LDw5FBi1pQzL"
      },
      "source": [
        "### Semantic arithmetic with Word2Vec\n",
        "\n",
        "One of the most original properties of Word2Vec embeddings is that the semantic relationships between vectors can be modelled by arithmetic operations. Given vectors representing the words `king`, `man` and `woman`, it is possible to compute the vector `v` as :  \n",
        "\n",
        "`v = vector(king)-vector(man)+vector(woman)`\n",
        "\n",
        "This operation corresponds to the following semantic relationship: *The king is to the man what the queen is to the woman*, which translates into the following arithmetic: *the concept of king, minus the concept of man plus the concept of woman gives the concept of queen*.\n",
        "\n",
        "In fact, if we look in the embedding for the word whose closest vector is `v`, we find `reine`.\n",
        "\n",
        "\n",
        "We will use a Word2Vec model pre-trained on the French Wac corpus.  This model has been trained on a corpus of 1 billion French words.\n",
        "\n",
        "This embedding is available in 2 formats:\n",
        "- a text format for easy exploration of the model :\n",
        "    - frWac_non_lem_no_postag_no_phrase_200_cbow_cut100.txt](https://storage.teklia.com/shared/deepnlp-labs/frWac_non_lem_no_postag_no_phrase_200_cbow_cut100.txt)\n",
        "- a binary format that can be loaded using the Gensim library:\n",
        "    - [enWac_non_lem_no_postag_no_phrase_200_cbow_cut100.bin](https://storage.teklia.com/shared/deepnlp-labs/frWac_non_lem_no_postag_no_phrase_200_cbow_cut100.bin)\n",
        "\n",
        "Download the text file onto your machine to analyse it.\n",
        "\n",
        "#### Question:\n",
        ">* Add the file to your .gitignore\n",
        ">* Give the size in Mb of the embedding files\n",
        ">* By exploring the contents of the embedding file in text format, give the number of words for which this model provides embeddings and the size of the embedding for each word.\n",
        "\n"
      ]
    },
    {
      "cell_type": "code",
      "source": [
        "!pip install --force-reinstall numpy==1.24.4 scipy==1.10.1 gensim==4.3.1\n"
      ],
      "metadata": {
        "id": "dhE2fW31wuFg",
        "outputId": "dae482ac-0ab4-4624-da5c-e474baf8ed37",
        "colab": {
          "base_uri": "https://localhost:8080/",
          "height": 1000
        }
      },
      "execution_count": 2,
      "outputs": [
        {
          "output_type": "stream",
          "name": "stdout",
          "text": [
            "Collecting numpy==1.24.4\n",
            "  Using cached numpy-1.24.4-cp311-cp311-manylinux_2_17_x86_64.manylinux2014_x86_64.whl.metadata (5.6 kB)\n",
            "Collecting scipy==1.10.1\n",
            "  Downloading scipy-1.10.1-cp311-cp311-manylinux_2_17_x86_64.manylinux2014_x86_64.whl.metadata (58 kB)\n",
            "\u001b[2K     \u001b[90m━━━━━━━━━━━━━━━━━━━━━━━━━━━━━━━━━━━━━━━━\u001b[0m \u001b[32m58.9/58.9 kB\u001b[0m \u001b[31m3.4 MB/s\u001b[0m eta \u001b[36m0:00:00\u001b[0m\n",
            "\u001b[?25hCollecting gensim==4.3.1\n",
            "  Using cached gensim-4.3.1-cp311-cp311-manylinux_2_17_x86_64.manylinux2014_x86_64.whl.metadata (8.4 kB)\n",
            "Collecting smart-open>=1.8.1 (from gensim==4.3.1)\n",
            "  Using cached smart_open-7.1.0-py3-none-any.whl.metadata (24 kB)\n",
            "Collecting wrapt (from smart-open>=1.8.1->gensim==4.3.1)\n",
            "  Using cached wrapt-1.17.2-cp311-cp311-manylinux_2_5_x86_64.manylinux1_x86_64.manylinux_2_17_x86_64.manylinux2014_x86_64.whl.metadata (6.4 kB)\n",
            "Using cached numpy-1.24.4-cp311-cp311-manylinux_2_17_x86_64.manylinux2014_x86_64.whl (17.3 MB)\n",
            "Downloading scipy-1.10.1-cp311-cp311-manylinux_2_17_x86_64.manylinux2014_x86_64.whl (34.1 MB)\n",
            "\u001b[2K   \u001b[90m━━━━━━━━━━━━━━━━━━━━━━━━━━━━━━━━━━━━━━━━\u001b[0m \u001b[32m34.1/34.1 MB\u001b[0m \u001b[31m18.5 MB/s\u001b[0m eta \u001b[36m0:00:00\u001b[0m\n",
            "\u001b[?25hUsing cached gensim-4.3.1-cp311-cp311-manylinux_2_17_x86_64.manylinux2014_x86_64.whl (26.6 MB)\n",
            "Using cached smart_open-7.1.0-py3-none-any.whl (61 kB)\n",
            "Using cached wrapt-1.17.2-cp311-cp311-manylinux_2_5_x86_64.manylinux1_x86_64.manylinux_2_17_x86_64.manylinux2014_x86_64.whl (83 kB)\n",
            "Installing collected packages: wrapt, numpy, smart-open, scipy, gensim\n",
            "  Attempting uninstall: wrapt\n",
            "    Found existing installation: wrapt 1.17.2\n",
            "    Uninstalling wrapt-1.17.2:\n",
            "      Successfully uninstalled wrapt-1.17.2\n",
            "  Attempting uninstall: numpy\n",
            "    Found existing installation: numpy 1.24.4\n",
            "    Uninstalling numpy-1.24.4:\n",
            "      Successfully uninstalled numpy-1.24.4\n",
            "  Attempting uninstall: smart-open\n",
            "    Found existing installation: smart-open 7.1.0\n",
            "    Uninstalling smart-open-7.1.0:\n",
            "      Successfully uninstalled smart-open-7.1.0\n",
            "  Attempting uninstall: scipy\n",
            "    Found existing installation: scipy 1.15.2\n",
            "    Uninstalling scipy-1.15.2:\n",
            "      Successfully uninstalled scipy-1.15.2\n",
            "  Attempting uninstall: gensim\n",
            "    Found existing installation: gensim 4.3.1\n",
            "    Uninstalling gensim-4.3.1:\n",
            "      Successfully uninstalled gensim-4.3.1\n",
            "\u001b[31mERROR: pip's dependency resolver does not currently take into account all the packages that are installed. This behaviour is the source of the following dependency conflicts.\n",
            "scikit-image 0.25.2 requires scipy>=1.11.4, but you have scipy 1.10.1 which is incompatible.\n",
            "tensorflow 2.18.0 requires numpy<2.1.0,>=1.26.0, but you have numpy 1.24.4 which is incompatible.\n",
            "treescope 0.1.9 requires numpy>=1.25.2, but you have numpy 1.24.4 which is incompatible.\n",
            "jax 0.5.2 requires numpy>=1.25, but you have numpy 1.24.4 which is incompatible.\n",
            "jax 0.5.2 requires scipy>=1.11.1, but you have scipy 1.10.1 which is incompatible.\n",
            "blosc2 3.3.1 requires numpy>=1.26, but you have numpy 1.24.4 which is incompatible.\n",
            "jaxlib 0.5.1 requires numpy>=1.25, but you have numpy 1.24.4 which is incompatible.\n",
            "jaxlib 0.5.1 requires scipy>=1.11.1, but you have scipy 1.10.1 which is incompatible.\n",
            "cvxpy 1.6.5 requires scipy>=1.11.0, but you have scipy 1.10.1 which is incompatible.\n",
            "thinc 8.3.6 requires numpy<3.0.0,>=2.0.0, but you have numpy 1.24.4 which is incompatible.\n",
            "pymc 5.22.0 requires numpy>=1.25.0, but you have numpy 1.24.4 which is incompatible.\u001b[0m\u001b[31m\n",
            "\u001b[0mSuccessfully installed gensim-4.3.1 numpy-1.24.4 scipy-1.10.1 smart-open-7.1.0 wrapt-1.17.2\n"
          ]
        },
        {
          "output_type": "display_data",
          "data": {
            "application/vnd.colab-display-data+json": {
              "pip_warning": {
                "packages": [
                  "numpy",
                  "smart_open",
                  "wrapt"
                ]
              },
              "id": "d8da5dffada64628983d484f761450ff"
            }
          },
          "metadata": {}
        }
      ]
    },
    {
      "cell_type": "markdown",
      "source": [
        "## Warnings : restart the kernel !"
      ],
      "metadata": {
        "id": "0GE712TUwmXT"
      }
    },
    {
      "cell_type": "code",
      "source": [
        "from gensim.models import KeyedVectors\n",
        "\n",
        "embedding_file = \"data/frWac_non_lem_no_postag_no_phrase_200_cbow_cut100.bin\"\n",
        "model = KeyedVectors.load_word2vec_format(embedding_file, binary=True, unicode_errors=\"ignore\")\n",
        "\n",
        "print(f\"Nombre de mots : {len(model.key_to_index)}\")\n",
        "print(f\"Dimension des vecteurs : {model.vector_size}\")\n"
      ],
      "metadata": {
        "id": "VMC-HU8nwfg3",
        "outputId": "2cf73422-e978-4f19-cd19-c0c3a5375ac9",
        "colab": {
          "base_uri": "https://localhost:8080/"
        }
      },
      "execution_count": 1,
      "outputs": [
        {
          "output_type": "stream",
          "name": "stdout",
          "text": [
            "Nombre de mots : 155562\n",
            "Dimension des vecteurs : 200\n"
          ]
        }
      ]
    },
    {
      "cell_type": "markdown",
      "source": [
        "**Answer: The size of the file is  123 099 KO**\n"
      ],
      "metadata": {
        "id": "h4eDaWI7xDbB"
      }
    },
    {
      "cell_type": "markdown",
      "metadata": {
        "id": "vdIDHoXVpQzM"
      },
      "source": [
        "#### Word similarity\n",
        "\n",
        "We are now going to use the [Gensim] library (https://radimrehurek.com/gensim/) to load the Word2Vec model and use it.\n",
        "\n",
        "#### Question:\n",
        ">* Modify the following code to load the Word2Vec template file in binary format using [load_word2vec](https://radimrehurek.com/gensim/models/keyedvectors.html#how-to-obtain-word-vectors)\n",
        ">* Choose a couple of words and find the closest words according to the model using [most_similar](https://radimrehurek.com/gensim/models/keyedvectors.html#gensim.models.keyedvectors.KeyedVectors.most_similar)\n",
        ">* To guess the meaning of the words ‘yokohama’, ‘kanto’ and ‘shamisen’, look for their nearest neighbours. Explain the results.\n"
      ]
    },
    {
      "cell_type": "code",
      "source": [
        "# Example 1: Nearest neighbors to \"chevalier\"\n",
        "print(\"Mots les plus proches de 'chevalier' :\")\n",
        "print(model.most_similar(\"chevalier\"))\n",
        "\n",
        "# Example 2: Nearest neighbors to \"yokohama\"\n",
        "print(\"\\nMots les plus proches de 'yokohama' :\")\n",
        "print(model.most_similar(\"yokohama\"))\n",
        "\n",
        "# Example 3: Nearest neighbors to \"kanto\"\n",
        "print(\"\\nMots les plus proches de 'kanto' :\")\n",
        "print(model.most_similar(\"kanto\"))\n",
        "\n",
        "# Example 4: Nearest neighbors to \"shamisen\"\n",
        "print(\"\\nMots les plus proches de 'shamisen' :\")\n",
        "print(model.most_similar(\"shamisen\"))"
      ],
      "metadata": {
        "id": "F2FGqrpbxdFF",
        "outputId": "31fb5d5c-4d05-409d-9e72-7781992200ac",
        "colab": {
          "base_uri": "https://localhost:8080/",
          "height": 556
        }
      },
      "execution_count": 2,
      "outputs": [
        {
          "output_type": "stream",
          "name": "stdout",
          "text": [
            "Mots les plus proches de 'chevalier' :\n",
            "[('commandeur', 0.6844523549079895), ('chevaliers', 0.6799763441085815), ('écuyer', 0.6333731412887573), ('grand-croix', 0.621898353099823), ('preux', 0.6011075377464294), ('chevalerie', 0.5404021143913269), ('légion', 0.5335969924926758), ('honneur', 0.4953608810901642), ('yvain', 0.4855087101459503), ('insignes', 0.4742659330368042)]\n",
            "\n",
            "Mots les plus proches de 'yokohama' :\n",
            "[('tokyo', 0.7117858529090881), ('tôkyô', 0.6314416527748108), ('japon', 0.621522068977356), ('nagoya', 0.6198478937149048), ('kyushu', 0.6141085028648376), ('osaka', 0.6123895645141602), ('fukuoka', 0.5612888932228088), ('japonaise', 0.5507326126098633), ('sendai', 0.5496150255203247), ('japonais', 0.5391373038291931)]\n",
            "\n",
            "Mots les plus proches de 'kanto' :\n",
            "[('pokémon', 0.5426285266876221), ('mewtwo', 0.5076008439064026), ('pokémons', 0.4970632791519165), ('saito', 0.4549728333950043), ('pokédex', 0.448673278093338), ('yusuke', 0.44163110852241516), ('osaka', 0.4372847080230713), ('shôgun', 0.4324425756931305), ('jin', 0.42604973912239075), ('honshu', 0.42374101281166077)]\n",
            "\n",
            "Mots les plus proches de 'shamisen' :\n"
          ]
        },
        {
          "output_type": "error",
          "ename": "KeyError",
          "evalue": "\"Key 'shamisen' not present in vocabulary\"",
          "traceback": [
            "\u001b[0;31m---------------------------------------------------------------------------\u001b[0m",
            "\u001b[0;31mKeyError\u001b[0m                                  Traceback (most recent call last)",
            "\u001b[0;32m<ipython-input-2-9450a8de483b>\u001b[0m in \u001b[0;36m<cell line: 0>\u001b[0;34m()\u001b[0m\n\u001b[1;32m     13\u001b[0m \u001b[0;31m# Example 4: Nearest neighbors to \"shamisen\"\u001b[0m\u001b[0;34m\u001b[0m\u001b[0;34m\u001b[0m\u001b[0m\n\u001b[1;32m     14\u001b[0m \u001b[0mprint\u001b[0m\u001b[0;34m(\u001b[0m\u001b[0;34m\"\\nMots les plus proches de 'shamisen' :\"\u001b[0m\u001b[0;34m)\u001b[0m\u001b[0;34m\u001b[0m\u001b[0;34m\u001b[0m\u001b[0m\n\u001b[0;32m---> 15\u001b[0;31m \u001b[0mprint\u001b[0m\u001b[0;34m(\u001b[0m\u001b[0mmodel\u001b[0m\u001b[0;34m.\u001b[0m\u001b[0mmost_similar\u001b[0m\u001b[0;34m(\u001b[0m\u001b[0;34m\"shamisen\"\u001b[0m\u001b[0;34m)\u001b[0m\u001b[0;34m)\u001b[0m\u001b[0;34m\u001b[0m\u001b[0;34m\u001b[0m\u001b[0m\n\u001b[0m",
            "\u001b[0;32m/usr/local/lib/python3.11/dist-packages/gensim/models/keyedvectors.py\u001b[0m in \u001b[0;36mmost_similar\u001b[0;34m(self, positive, negative, topn, clip_start, clip_end, restrict_vocab, indexer)\u001b[0m\n\u001b[1;32m    839\u001b[0m \u001b[0;34m\u001b[0m\u001b[0m\n\u001b[1;32m    840\u001b[0m         \u001b[0;31m# compute the weighted average of all keys\u001b[0m\u001b[0;34m\u001b[0m\u001b[0;34m\u001b[0m\u001b[0m\n\u001b[0;32m--> 841\u001b[0;31m         \u001b[0mmean\u001b[0m \u001b[0;34m=\u001b[0m \u001b[0mself\u001b[0m\u001b[0;34m.\u001b[0m\u001b[0mget_mean_vector\u001b[0m\u001b[0;34m(\u001b[0m\u001b[0mkeys\u001b[0m\u001b[0;34m,\u001b[0m \u001b[0mweight\u001b[0m\u001b[0;34m,\u001b[0m \u001b[0mpre_normalize\u001b[0m\u001b[0;34m=\u001b[0m\u001b[0;32mTrue\u001b[0m\u001b[0;34m,\u001b[0m \u001b[0mpost_normalize\u001b[0m\u001b[0;34m=\u001b[0m\u001b[0;32mTrue\u001b[0m\u001b[0;34m,\u001b[0m \u001b[0mignore_missing\u001b[0m\u001b[0;34m=\u001b[0m\u001b[0;32mFalse\u001b[0m\u001b[0;34m)\u001b[0m\u001b[0;34m\u001b[0m\u001b[0;34m\u001b[0m\u001b[0m\n\u001b[0m\u001b[1;32m    842\u001b[0m         all_keys = [\n\u001b[1;32m    843\u001b[0m             \u001b[0mself\u001b[0m\u001b[0;34m.\u001b[0m\u001b[0mget_index\u001b[0m\u001b[0;34m(\u001b[0m\u001b[0mkey\u001b[0m\u001b[0;34m)\u001b[0m \u001b[0;32mfor\u001b[0m \u001b[0mkey\u001b[0m \u001b[0;32min\u001b[0m \u001b[0mkeys\u001b[0m \u001b[0;32mif\u001b[0m \u001b[0misinstance\u001b[0m\u001b[0;34m(\u001b[0m\u001b[0mkey\u001b[0m\u001b[0;34m,\u001b[0m \u001b[0m_KEY_TYPES\u001b[0m\u001b[0;34m)\u001b[0m \u001b[0;32mand\u001b[0m \u001b[0mself\u001b[0m\u001b[0;34m.\u001b[0m\u001b[0mhas_index_for\u001b[0m\u001b[0;34m(\u001b[0m\u001b[0mkey\u001b[0m\u001b[0;34m)\u001b[0m\u001b[0;34m\u001b[0m\u001b[0;34m\u001b[0m\u001b[0m\n",
            "\u001b[0;32m/usr/local/lib/python3.11/dist-packages/gensim/models/keyedvectors.py\u001b[0m in \u001b[0;36mget_mean_vector\u001b[0;34m(self, keys, weights, pre_normalize, post_normalize, ignore_missing)\u001b[0m\n\u001b[1;32m    516\u001b[0m                 \u001b[0mtotal_weight\u001b[0m \u001b[0;34m+=\u001b[0m \u001b[0mabs\u001b[0m\u001b[0;34m(\u001b[0m\u001b[0mweights\u001b[0m\u001b[0;34m[\u001b[0m\u001b[0midx\u001b[0m\u001b[0;34m]\u001b[0m\u001b[0;34m)\u001b[0m\u001b[0;34m\u001b[0m\u001b[0;34m\u001b[0m\u001b[0m\n\u001b[1;32m    517\u001b[0m             \u001b[0;32melif\u001b[0m \u001b[0;32mnot\u001b[0m \u001b[0mignore_missing\u001b[0m\u001b[0;34m:\u001b[0m\u001b[0;34m\u001b[0m\u001b[0;34m\u001b[0m\u001b[0m\n\u001b[0;32m--> 518\u001b[0;31m                 \u001b[0;32mraise\u001b[0m \u001b[0mKeyError\u001b[0m\u001b[0;34m(\u001b[0m\u001b[0;34mf\"Key '{key}' not present in vocabulary\"\u001b[0m\u001b[0;34m)\u001b[0m\u001b[0;34m\u001b[0m\u001b[0;34m\u001b[0m\u001b[0m\n\u001b[0m\u001b[1;32m    519\u001b[0m \u001b[0;34m\u001b[0m\u001b[0m\n\u001b[1;32m    520\u001b[0m         \u001b[0;32mif\u001b[0m \u001b[0mtotal_weight\u001b[0m \u001b[0;34m>\u001b[0m \u001b[0;36m0\u001b[0m\u001b[0;34m:\u001b[0m\u001b[0;34m\u001b[0m\u001b[0;34m\u001b[0m\u001b[0m\n",
            "\u001b[0;31mKeyError\u001b[0m: \"Key 'shamisen' not present in vocabulary\""
          ]
        }
      ]
    },
    {
      "cell_type": "markdown",
      "source": [
        "**Answer : The word chevalier is closely associated with terms referring to medieval nobility and honorary titles, suggesting the model captures both its historical and modern French meanings. Yokohama is identified as a major Japanese city, with nearest neighbors including Tokyo, Osaka, and other urban or national references, confirming the model’s grasp of geographic relationships. Interestingly, kanto is more strongly linked to Pokémon-related terms like mewtwo and pokédex than to the actual Kanto region in Japan, indicating that the model has learned this pop culture usage from frequent co-occurrences. The word shamisen is not found in the vocabulary, likely due to its rarity in the corpus used to train the model.**"
      ],
      "metadata": {
        "id": "2UsiyDs_x9Zd"
      }
    },
    {
      "cell_type": "markdown",
      "metadata": {
        "id": "V3POZjGcpQzN"
      },
      "source": [
        "#### Semantic arithmetic\n",
        "\n",
        "One of the most original properties of Word2Vec embeddings is that the semantic relationships between vectors can be modelled by arithmetic operations. Given vectors representing the words `king`, `man` and `woman`, it is possible to compute the vector `v` as :  \n",
        "\n",
        "`v = vector(king)-vector(man)+vector(woman)`\n",
        "\n",
        "This operation corresponds to the following semantic relationship: *The king is to the man what the queen is to the woman*, which translates into the following arithmetic: *the concept of king, minus the concept of man plus the concept of woman gives the concept of queen*.\n",
        "\n",
        "In fact, if we look in the embedding for the word whose closest vector is `v`, we find `reine`.\n",
        "\n",
        "#### Question:\n",
        ">* using the function [most_similar](https://radimrehurek.com/gensim/models/keyedvectors.html#gensim.models.keyedvectors.KeyedVectors.most_similar) specifying the arguments `positive` for the vectors to be added and `negative` for the vectors to be subtracted, check the relationship *the concept of king, minus the concept of man plus the concept of woman gives the concept of queen*.\n",
        ">* Using the same method, find XXX in the following semantic relations\n",
        ">   * Paris is to France what XXX is to Japan.\n",
        ">   * Chevalier is to France what XXX is to Japan."
      ]
    },
    {
      "cell_type": "code",
      "execution_count": 3,
      "metadata": {
        "colab": {
          "base_uri": "https://localhost:8080/"
        },
        "id": "IBNZyK7kpQzN",
        "outputId": "b670fe41-de59-4d34-af53-200d8d106c21"
      },
      "outputs": [
        {
          "output_type": "stream",
          "name": "stdout",
          "text": [
            "roi - homme + femme ≈ ('reine', 0.6945513486862183)\n"
          ]
        }
      ],
      "source": [
        "# Vector arithmetic: king - man + woman ≈ queen\n",
        "result = model.most_similar(positive=[\"roi\", \"femme\"], negative=[\"homme\"])\n",
        "print(\"roi - homme + femme ≈\", result[0])\n",
        "\n"
      ]
    },
    {
      "cell_type": "code",
      "source": [
        "# paris - france + japon ≈ ?\n",
        "result = model.most_similar(positive=[\"japon\", \"paris\"], negative=[\"france\"])\n",
        "print(\"paris - france + japon ≈\", result[0])\n"
      ],
      "metadata": {
        "id": "JpFRbEF5yRAf",
        "outputId": "d228ff80-e9c7-494e-be78-fb3b5a637835",
        "colab": {
          "base_uri": "https://localhost:8080/"
        }
      },
      "execution_count": 4,
      "outputs": [
        {
          "output_type": "stream",
          "name": "stdout",
          "text": [
            "paris - france + japon ≈ ('tokyo', 0.6542136073112488)\n"
          ]
        }
      ]
    },
    {
      "cell_type": "code",
      "source": [
        "# chevalier - france + japon ≈ ?\n",
        "result = model.most_similar(positive=[\"japon\", \"chevalier\"], negative=[\"france\"])\n",
        "print(\"chevalier - france + japon ≈\", result[0])\n"
      ],
      "metadata": {
        "id": "8hPUkG1qyVSi",
        "outputId": "c71b958a-c650-4eb8-ce3b-5c970053d69d",
        "colab": {
          "base_uri": "https://localhost:8080/"
        }
      },
      "execution_count": 5,
      "outputs": [
        {
          "output_type": "stream",
          "name": "stdout",
          "text": [
            "chevalier - france + japon ≈ ('samouraï', 0.5616667866706848)\n"
          ]
        }
      ]
    },
    {
      "cell_type": "markdown",
      "metadata": {
        "id": "dE4h1NuIpQzN"
      },
      "source": [
        "## Contextual embeddings with BERT\n",
        "\n",
        "BERT was one of the first freely available Transformer language models, trained on large corpora. Many other models are available on HuggingFace.\n",
        "\n",
        "As BERT is a contextual model, it is necessary to have it predict whole sentences in order to study the word embeddings it produces. In this section, we will compare the embeddings obtained for polysemous words according to the sentence in which they are used.\n",
        "\n",
        "In English, *plant* has two meanings: plant and vegetable. With a non-contextual embedding, such as Glove or Colobert, these two meanings of the word plus are associated with an identical embedding. With BERT, we'll see that the same word can have several embeddings depending on the context.\n",
        "\n",
        "First, load the BERT model and tokenizer from HuggingFace :"
      ]
    },
    {
      "cell_type": "markdown",
      "metadata": {
        "id": "Dt3CyBZ_pQzO"
      },
      "source": [
        "### Tokenizer\n",
        "\n",
        "Language models are trained with a specific breakdown of sentences into tokens. These tokens can be words or parts of words. It is necessary to use the tokenizer corresponding to each model.\n",
        "\n",
        "tokenizer.vocab.keys() gives the list of all the tokens known for the language model.\n",
        "\n",
        "#### Question\n",
        ">* How many different tokens are known to the BERT tokenizer?\n",
        ">* Display a hundred tokens at random. What do you find?"
      ]
    },
    {
      "cell_type": "code",
      "execution_count": null,
      "metadata": {
        "id": "i3TRH8yVpQzO"
      },
      "outputs": [],
      "source": [
        "import random\n",
        "# number of token in tokenizer\n",
        "# YOU CODE HERE\n",
        "# sample of 100 tokens\n",
        "# YOU CODE HERE\n"
      ]
    },
    {
      "cell_type": "markdown",
      "metadata": {
        "id": "jIrwXkg5pQzO"
      },
      "source": [
        "The tokenizer splits sentences and transforms the elements (words or sub-words) into clues.\n",
        "\n",
        "BERT can process several sentences, but you need to tell it how the sentences (segments) have been split, with an index: 0 for the first sentence, 1 for the second.\n",
        "\n",
        "Two specific tokens must also be added:\n",
        "* CLS], a specific token used for sentence classification\n",
        "* SEP], the end of sentence token.\n",
        "\n",
        "#### Question\n",
        ">* Apply the bert_tokenize function to the 3 phases and keep the 3 vectors (index, token, segment).\n",
        ">* Display this information for each of the sentences and check that the word *plant* has the same token index in the two sentences in which it appears."
      ]
    },
    {
      "cell_type": "code",
      "execution_count": null,
      "metadata": {
        "id": "KXdyXY6YpQzP"
      },
      "outputs": [],
      "source": [
        "snt1 = \"The plant has reached its maximal level of production.\"\n",
        "snt2 = \"The cars are assembled inside the factory.\"\n",
        "snt3 = \"A plant needs sunlight and water to grow well.\"\n",
        "\n",
        "\n",
        "def bert_tokenize(snt):\n",
        "    \"\"\" Apply the BERT tokenizer to a list of words representing a sentence\n",
        "        and return 3 lists:\n",
        "        - list of token indx\n",
        "        - list of token for debugging, not used by the BERT model\n",
        "        - list of sentence index\n",
        "        \"\"\"\n",
        "    # Add the special tokens.\n",
        "    tagged_snt = \"[CLS] \" + snt + \" [SEP]\"\n",
        "    # Tokenize\n",
        "    tokenized_snt = tokenizer.tokenize(tagged_snt)\n",
        "    # convert tokens to indices\n",
        "    indexed_snt = tokenizer.convert_tokens_to_ids(tokenized_snt)\n",
        "    # mark the words in sentence.\n",
        "    segments_ids = [1] * len(tokenized_snt)\n",
        "\n",
        "    return (indexed_snt, tokenized_snt, segments_ids)\n",
        "\n",
        "# YOUR CODE HERE\n",
        "\n"
      ]
    },
    {
      "cell_type": "markdown",
      "metadata": {
        "id": "kRCswPGPpQzP"
      },
      "source": [
        "## Inference\n",
        "\n",
        "To calculate embeddings, we need to make a prediction using the BERT model on a complete sentence. The *predict_hidden* function converts the token and segment index lists into a pytorch tensor and applies the model.\n",
        "\n",
        "The model used is a 12-layer model. We will use the last hidden layer of the model as an embedding to represent the words. Other solutions are possible, such as concatenation or averaging of several layers.\n",
        "\n",
        "\n",
        "#### Question\n",
        ">* Apply the model to each of the 3 sentences and store the resulting embeddings (tensors).\n",
        ">* Display the dimension of the resulting tensors. What is the dimension of the embedding vector for each word?"
      ]
    },
    {
      "cell_type": "code",
      "execution_count": null,
      "metadata": {
        "id": "RWzGi6TBpQzP"
      },
      "outputs": [],
      "source": [
        "\n",
        "def predict_hidden(indexed_snt, segments_ids):\n",
        "    \"\"\"Apply the BERT model to the input token indices and segment indices\n",
        "        and return the last hidden layer\n",
        "    \"\"\"\n",
        "    with torch.no_grad():\n",
        "        # Convert inputs to PyTorch tensors\n",
        "        tokens_tensor = torch.tensor([indexed_snt])\n",
        "        segments_tensors = torch.tensor([segments_ids])\n",
        "        outputs = model(tokens_tensor, segments_tensors)\n",
        "        hidden_states = outputs[2]\n",
        "        one_hidden_layer = hidden_states[12][0]\n",
        "\n",
        "    return one_hidden_layer\n",
        "\n",
        "# YOUR CODE HERE\n",
        "\n"
      ]
    },
    {
      "cell_type": "markdown",
      "metadata": {
        "id": "i4HuOQfYpQzQ"
      },
      "source": [
        "The hidden layer returned by the *predict_hidden* function is a tensor containing a context vector representing each token in the input sentence. We can use this vector to represent the meaning of this word as a function of its context. We're going to compare the representation of the polysemous word *plant* as a function of its context.\n",
        "\n",
        "#### Question\n",
        ">* Using the [cosine distance](https://docs.scipy.org/doc/scipy/reference/generated/scipy.spatial.distance.cosine.html), calculate the following distances:\n",
        "> * distance between *plant* in sentence 1 (plant-factory) and *plant* in sentence 3 (plant-vegetal)\n",
        "> * distance between *plant* in sentence 1 (plant-factory) and *factory* in sentence 2 (plant-vegetal)\n",
        "> * distance between *plant* in sentence 1 (plant-factory) and *production* in sentence 2\n",
        "> distance between *plant* in sentence 3 (plant-vegetal) and *production* in sentence 2\n",
        "> How can we interpret these distances?"
      ]
    },
    {
      "cell_type": "code",
      "execution_count": null,
      "metadata": {
        "id": "3908Jvc5pQzQ"
      },
      "outputs": [],
      "source": [
        "from scipy.spatial.distance import cosine\n",
        "\n",
        "# YOUR CODE HERE\n"
      ]
    }
  ],
  "metadata": {
    "kernelspec": {
      "display_name": "venv",
      "language": "python",
      "name": "python3"
    },
    "language_info": {
      "codemirror_mode": {
        "name": "ipython",
        "version": 3
      },
      "file_extension": ".py",
      "mimetype": "text/x-python",
      "name": "python",
      "nbconvert_exporter": "python",
      "pygments_lexer": "ipython3",
      "version": "3.10.11"
    },
    "colab": {
      "provenance": []
    }
  },
  "nbformat": 4,
  "nbformat_minor": 0
}